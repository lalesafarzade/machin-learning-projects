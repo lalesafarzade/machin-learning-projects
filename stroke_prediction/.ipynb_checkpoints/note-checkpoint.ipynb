{
 "cells": [
  {
   "cell_type": "code",
   "execution_count": 590,
   "metadata": {},
   "outputs": [],
   "source": [
    "import pandas as pd\n",
    "import seaborn as sns\n",
    "import matplotlib.pyplot as plt\n",
    "import numpy as np\n",
    "from sklearn.metrics import accuracy_score,roc_curve,confusion_matrix,precision_score,recall_score,f1_score,roc_auc_score\n",
    "from sklearn.svm import SVC\n",
    "from sklearn.model_selection import GridSearchCV\n",
    "from sklearn.model_selection import train_test_split\n",
    "from sklearn.metrics import classification_report\n",
    "from sklearn.linear_model import LogisticRegression\n",
    "from imblearn.over_sampling import SMOTE\n",
    "from sklearn.metrics import accuracy_score,classification_report,roc_auc_score\n",
    "from sklearn.preprocessing import PowerTransformer\n",
    "from sklearn.linear_model import LinearRegression\n",
    "from sklearn.svm import SVR\n",
    "from sklearn.preprocessing import StandardScaler\n",
    "from sklearn.metrics import mean_squared_error, r2_score\n",
    "from sklearn.linear_model import ElasticNet, Ridge, Lasso\n",
    "from sklearn.linear_model import SGDClassifier\n",
    "from sklearn.pipeline import make_pipeline\n",
    "from sklearn.tree import DecisionTreeRegressor,DecisionTreeClassifier\n",
    "from sklearn.ensemble import ExtraTreesClassifier \n",
    "from boost_helper_functions import bootstrap, get_estimator_weight, new_sample_weights\n",
    "from imblearn.combine import SMOTEENN\n",
    "from imblearn.under_sampling import EditedNearestNeighbours\n",
    "from imblearn.pipeline import Pipeline\n",
    "from imblearn.under_sampling import RandomUnderSampler\n",
    "from imblearn.over_sampling import RandomOverSampler\n",
    "from sklearn.utils import resample\n",
    "from sklearn.ensemble import AdaBoostClassifier\n",
    "from sklearn.neural_network import MLPClassifier\n",
    "from sklearn.ensemble import RandomForestClassifier\n",
    "from imblearn.metrics import geometric_mean_score\n",
    "from sklearn.neighbors import KNeighborsClassifier\n",
    "from xgboost import XGBClassifier\n"
   ]
  },
  {
   "cell_type": "code",
   "execution_count": 591,
   "metadata": {},
   "outputs": [],
   "source": [
    "df=pd.read_csv(\"healthcare-dataset-stroke-data.csv\").set_index('id')\n"
   ]
  },
  {
   "cell_type": "markdown",
   "metadata": {},
   "source": [
    "# Data Cleaning\n"
   ]
  },
  {
   "cell_type": "code",
   "execution_count": 592,
   "metadata": {},
   "outputs": [],
   "source": [
    "df=df.drop(df[df[\"age\"]<10].index)\n",
    "df=df.drop(df[(df[\"stroke\"]==0)&(df[\"smoking_status\"]==\"Unknown\")].index)\n",
    "df=df.drop(df[(df[\"bmi\"].isna()==True)&(df[\"stroke\"]==0)].index)"
   ]
  },
  {
   "cell_type": "code",
   "execution_count": 593,
   "metadata": {},
   "outputs": [
    {
     "data": {
      "text/html": [
       "<div>\n",
       "<style scoped>\n",
       "    .dataframe tbody tr th:only-of-type {\n",
       "        vertical-align: middle;\n",
       "    }\n",
       "\n",
       "    .dataframe tbody tr th {\n",
       "        vertical-align: top;\n",
       "    }\n",
       "\n",
       "    .dataframe thead th {\n",
       "        text-align: right;\n",
       "    }\n",
       "</style>\n",
       "<table border=\"1\" class=\"dataframe\">\n",
       "  <thead>\n",
       "    <tr style=\"text-align: right;\">\n",
       "      <th></th>\n",
       "      <th>age</th>\n",
       "      <th>hypertension</th>\n",
       "      <th>heart_disease</th>\n",
       "      <th>avg_glucose_level</th>\n",
       "      <th>bmi</th>\n",
       "      <th>stroke</th>\n",
       "    </tr>\n",
       "    <tr>\n",
       "      <th>ever_married</th>\n",
       "      <th></th>\n",
       "      <th></th>\n",
       "      <th></th>\n",
       "      <th></th>\n",
       "      <th></th>\n",
       "      <th></th>\n",
       "    </tr>\n",
       "  </thead>\n",
       "  <tbody>\n",
       "    <tr>\n",
       "      <th>No</th>\n",
       "      <td>31.216867</td>\n",
       "      <td>0.051807</td>\n",
       "      <td>0.027711</td>\n",
       "      <td>98.218699</td>\n",
       "      <td>28.285301</td>\n",
       "      <td>0.027711</td>\n",
       "    </tr>\n",
       "    <tr>\n",
       "      <th>Yes</th>\n",
       "      <td>54.344000</td>\n",
       "      <td>0.140190</td>\n",
       "      <td>0.071238</td>\n",
       "      <td>111.655650</td>\n",
       "      <td>30.913562</td>\n",
       "      <td>0.070857</td>\n",
       "    </tr>\n",
       "  </tbody>\n",
       "</table>\n",
       "</div>"
      ],
      "text/plain": [
       "                    age  hypertension  heart_disease  avg_glucose_level  \\\n",
       "ever_married                                                              \n",
       "No            31.216867      0.051807       0.027711          98.218699   \n",
       "Yes           54.344000      0.140190       0.071238         111.655650   \n",
       "\n",
       "                    bmi    stroke  \n",
       "ever_married                       \n",
       "No            28.285301  0.027711  \n",
       "Yes           30.913562  0.070857  "
      ]
     },
     "execution_count": 593,
     "metadata": {},
     "output_type": "execute_result"
    }
   ],
   "source": [
    "bmi_null=df[df[\"bmi\"].isna()==True]\n",
    "bmi_non_null=df[df[\"bmi\"].isna()==False]\n",
    "bmi_non_null.groupby('ever_married').mean()"
   ]
  },
  {
   "cell_type": "code",
   "execution_count": 594,
   "metadata": {},
   "outputs": [],
   "source": [
    "def impute_bmi(cols):\n",
    "    bmi = cols[0]\n",
    "    ever_married = cols[1]\n",
    "    \n",
    "    if pd.isnull(bmi):\n",
    "\n",
    "        if ever_married == \"No\":\n",
    "            return 28.3\n",
    "\n",
    "        else:\n",
    "            return 31.0\n",
    "\n",
    "    else:\n",
    "        return bmi"
   ]
  },
  {
   "cell_type": "code",
   "execution_count": 595,
   "metadata": {},
   "outputs": [],
   "source": [
    "df['bmi'] = df[['bmi','ever_married']].apply(impute_bmi,axis=1)"
   ]
  },
  {
   "cell_type": "code",
   "execution_count": 596,
   "metadata": {},
   "outputs": [],
   "source": [
    "df['ever_married']=df.ever_married.map({'Yes':1,'No':0})\n",
    "df[\"Residence_Urban\"]=df.Residence_type.map({'Urban':1,'Rural':0})\n",
    "df[\"gender_male\"]=df.gender.map({'Male':1,'Female':-1,\"Other\":0})\n",
    "df.drop([\"ever_married\",\"Residence_type\",\"gender\"],axis=1,inplace=True)\n",
    "clean_df = pd.get_dummies(df)\n"
   ]
  },
  {
   "cell_type": "markdown",
   "metadata": {},
   "source": [
    "## Data splitting"
   ]
  },
  {
   "cell_type": "code",
   "execution_count": 597,
   "metadata": {},
   "outputs": [],
   "source": [
    "y = clean_df['stroke']\n",
    "X = clean_df.drop(columns=[\"stroke\"],axis=1)\n",
    "X_train,X_test,y_train,y_test = train_test_split(X,y,random_state=42,test_size=.2)"
   ]
  },
  {
   "cell_type": "code",
   "execution_count": null,
   "metadata": {},
   "outputs": [],
   "source": [
    "sc=StandardScaler()\n",
    "X_train_scaled = sc.fit_transform(X_train)\n",
    "X_test_scaled = sc.transform(X_test)"
   ]
  },
  {
   "cell_type": "markdown",
   "metadata": {},
   "source": [
    "## SGDClassifier"
   ]
  },
  {
   "cell_type": "code",
   "execution_count": 700,
   "metadata": {},
   "outputs": [
    {
     "name": "stdout",
     "output_type": "stream",
     "text": [
      "G_mean: 0.52\n",
      "training score: 0.93\n",
      "testing score: 0.93\n",
      "testing accuracy: 0.93\n",
      "roc_auc_score: 0.71\n",
      "f1_score: 0.51\n",
      "**********************************************************************\n",
      "              precision    recall  f1-score   support\n",
      "\n",
      "           0       0.95      0.97      0.96       637\n",
      "           1       0.63      0.44      0.51        62\n",
      "\n",
      "    accuracy                           0.93       699\n",
      "   macro avg       0.79      0.71      0.74       699\n",
      "weighted avg       0.92      0.93      0.92       699\n",
      "\n"
     ]
    }
   ],
   "source": [
    "clf1 = SGDClassifier(class_weight = {0: 1, 1:2.7},max_iter=1000, tol=1e-3,random_state=42,)\n",
    "clf1.fit(X_train_scaled,y_train)\n",
    "y_pred = clf1.predict(X_test_scaled)\n",
    "\n",
    "cm = confusion_matrix(y_test, y_pred)\n",
    "tn, fp, fn, tp = cm.ravel()\n",
    "precision = tp / (tp + fp)\n",
    "sensitivity = tp / (tp + fn)\n",
    "print(\"G_mean:\",round(np.sqrt(sensitivity*precision),2))\n",
    "print('training score:', round(clf1.score(X_train_scaled,y_train),2))\n",
    "print('testing score:', round(clf1.score(X_test_scaled,y_test),2))\n",
    "print('testing accuracy:', round(accuracy_score(y_test, y_pred),2))\n",
    "print('roc_auc_score:',round(roc_auc_score(y_test, y_pred),2))\n",
    "print('f1_score:',round(f1_score(y_test, y_pred),2))\n",
    "print(\"*\"*70)\n",
    "print(classification_report(y_test, y_pred))"
   ]
  },
  {
   "cell_type": "markdown",
   "metadata": {},
   "source": [
    "## LogisticRegression"
   ]
  },
  {
   "cell_type": "code",
   "execution_count": 698,
   "metadata": {},
   "outputs": [
    {
     "name": "stdout",
     "output_type": "stream",
     "text": [
      "G_mean: 0.52\n",
      "training score: 0.92\n",
      "testing score: 0.93\n",
      "testing accuracy: 0.93\n",
      "ROC AUC score: 0.89\n",
      "f1_score: 0.51\n",
      "**********************************************************************\n",
      "              precision    recall  f1-score   support\n",
      "\n",
      "           0       0.95      0.97      0.96       637\n",
      "           1       0.61      0.44      0.51        62\n",
      "\n",
      "    accuracy                           0.93       699\n",
      "   macro avg       0.78      0.70      0.73       699\n",
      "weighted avg       0.92      0.93      0.92       699\n",
      "\n"
     ]
    }
   ],
   "source": [
    "clf2 = LogisticRegression(class_weight = {0: 1, 1:3.6},max_iter=1000,random_state=42)\n",
    "clf2.fit(X_train_scaled,y_train)\n",
    "y_pred = clf2.predict(X_test_scaled)\n",
    "y_prob = clf2.predict_proba(X_test_scaled)[:,1]\n",
    "cm = confusion_matrix(y_test, y_pred)\n",
    "tn, fp, fn, tp = cm.ravel()\n",
    "precision = tp / (tp + fp)\n",
    "sensitivity = tp / (tp + fn)\n",
    "print(\"G_mean:\",round(np.sqrt(sensitivity*precision),2))\n",
    "print('training score:', round(clf2.score(X_train_scaled,y_train),2))\n",
    "print('testing score:', round(clf2.score(X_test_scaled,y_test),2))\n",
    "print('testing accuracy:', round(accuracy_score(y_test, y_pred),2))\n",
    "print('ROC AUC score:', round(roc_auc_score(y_test, y_prob),2))\n",
    "print('f1_score:',round(f1_score(y_test, y_pred),2))\n",
    "print(\"*\"*70)\n",
    "print(classification_report(y_test, y_pred))\n"
   ]
  },
  {
   "cell_type": "markdown",
   "metadata": {},
   "source": [
    "## SVC"
   ]
  },
  {
   "cell_type": "code",
   "execution_count": 693,
   "metadata": {},
   "outputs": [
    {
     "name": "stdout",
     "output_type": "stream",
     "text": [
      "G_mean: 0.43\n",
      "training score: 0.95\n",
      "testing score: 0.93\n",
      "testing accuracy: 0.93\n",
      "roc_auc_score: 0.62\n",
      "f1_score: 0.37\n",
      "**********************************************************************\n",
      "              precision    recall  f1-score   support\n",
      "\n",
      "           0       0.93      0.99      0.96       637\n",
      "           1       0.75      0.24      0.37        62\n",
      "\n",
      "    accuracy                           0.93       699\n",
      "   macro avg       0.84      0.62      0.66       699\n",
      "weighted avg       0.91      0.93      0.91       699\n",
      "\n"
     ]
    }
   ],
   "source": [
    "clf3 = SVC(C=100,gamma=0.01,kernel='rbf',class_weight = {0: 1, 1:2})\n",
    "clf3.fit(X_train_scaled, y_train)\n",
    "y_pred = clf3.predict(X_test_scaled)\n",
    "cm = confusion_matrix(y_test, y_pred)\n",
    "tn, fp, fn, tp = cm.ravel()\n",
    "precision = tp / (tp + fp)\n",
    "sensitivity = tp / (tp + fn)\n",
    "print(\"G_mean:\",round(np.sqrt(sensitivity*precision),2))\n",
    "print('training score:', round(clf3.score(X_train_scaled,y_train),2))\n",
    "print('testing score:', round(clf3.score(X_test_scaled,y_test),2))\n",
    "print('testing accuracy:', round(accuracy_score(y_test, y_pred),2))\n",
    "print('roc_auc_score:',round(roc_auc_score(y_test, y_pred),2))\n",
    "print('f1_score:',round(f1_score(y_test, y_pred),2))\n",
    "print(\"*\"*70)\n",
    "print(classification_report(y_test, y_pred))\n"
   ]
  },
  {
   "cell_type": "markdown",
   "metadata": {},
   "source": [
    "## KNN"
   ]
  },
  {
   "cell_type": "code",
   "execution_count": 604,
   "metadata": {},
   "outputs": [
    {
     "name": "stdout",
     "output_type": "stream",
     "text": [
      "k: 1, Train/Test Score: 1.000/0.888\n",
      "G_mean: 0.29329423004270655\n",
      "k: 3, Train/Test Score: 0.949/0.924\n",
      "G_mean: 0.4237017130659008\n",
      "k: 5, Train/Test Score: 0.948/0.926\n",
      "G_mean: 0.40730653998127836\n",
      "k: 7, Train/Test Score: 0.946/0.930\n",
      "G_mean: 0.4579054698896255\n",
      "k: 9, Train/Test Score: 0.947/0.930\n",
      "G_mean: 0.4579054698896255\n",
      "k: 11, Train/Test Score: 0.946/0.928\n",
      "G_mean: 0.43994134506405985\n",
      "k: 13, Train/Test Score: 0.946/0.928\n",
      "G_mean: 0.43994134506405985\n",
      "k: 15, Train/Test Score: 0.946/0.928\n",
      "G_mean: 0.43994134506405985\n",
      "k: 17, Train/Test Score: 0.946/0.928\n",
      "G_mean: 0.43994134506405985\n",
      "k: 19, Train/Test Score: 0.946/0.928\n",
      "G_mean: 0.43994134506405985\n"
     ]
    },
    {
     "data": {
      "image/png": "[encoded data removed]",
      "text/plain": [
       "<Figure size 432x288 with 1 Axes>"
      ]
     },
     "metadata": {
      "needs_background": "light"
     },
     "output_type": "display_data"
    }
   ],
   "source": [
    "train_scores = []\n",
    "test_scores = []\n",
    "for k in range(1, 20, 2):\n",
    "    knn = make_pipeline(StandardScaler(),KNeighborsClassifier(n_neighbors=k))\n",
    "    knn.fit(X_train_scaled, y_train)\n",
    "    train_score = knn.score(X_train_scaled, y_train)\n",
    "    test_score = knn.score(X_test_scaled, y_test)\n",
    "    train_scores.append(train_score)\n",
    "    test_scores.append(test_score)\n",
    "    print(f\"k: {k}, Train/Test Score: {train_score:.3f}/{test_score:.3f}\")\n",
    "    y_pred = knn.predict(X_test_scaled)\n",
    "    cm = confusion_matrix(y_test, y_pred)\n",
    "    tn, fp, fn, tp = cm.ravel()\n",
    "    precision = tp / (tp + fp)\n",
    "    sensitivity = tp / (tp + fn)\n",
    "    print(\"G_mean:\",np.sqrt(sensitivity*precision))\n",
    "    \n",
    "    \n",
    "plt.plot(range(1, 20, 2), train_scores, marker='o')\n",
    "plt.plot(range(1, 20, 2), test_scores, marker=\"x\")\n",
    "plt.xlabel(\"k neighbors\")\n",
    "plt.ylabel(\"Testing accuracy score\")\n",
    "plt.show()"
   ]
  },
  {
   "cell_type": "code",
   "execution_count": 691,
   "metadata": {},
   "outputs": [
    {
     "name": "stdout",
     "output_type": "stream",
     "text": [
      "G_mean: 0.39\n",
      "training score: 0.86\n",
      "testing score: 0.84\n",
      "ROC AUC score: 0.79\n",
      "f1_score: 0.37\n",
      "**********************************************************************\n",
      "              precision    recall  f1-score   support\n",
      "\n",
      "           0       0.95      0.86      0.91       637\n",
      "           1       0.28      0.55      0.37        62\n",
      "\n",
      "    accuracy                           0.84       699\n",
      "   macro avg       0.62      0.71      0.64       699\n",
      "weighted avg       0.89      0.84      0.86       699\n",
      "\n"
     ]
    }
   ],
   "source": [
    "model=KNeighborsClassifier(n_neighbors=7)\n",
    "resample=RandomUnderSampler(sampling_strategy = .5,random_state=1, replacement=True)\n",
    "#Define pipeline\n",
    "clf4=Pipeline(steps=[('r', resample), ('m', model)])\n",
    "clf4.fit(X_train_scaled,y_train)\n",
    "y_prob = clf4.predict_proba(X_test_scaled)[:,1]\n",
    "y_pred = clf4.predict(X_test_scaled)\n",
    "cm = confusion_matrix(y_test, y_pred)\n",
    "tn, fp, fn, tp = cm.ravel()\n",
    "precision = tp / (tp + fp)\n",
    "sensitivity = tp / (tp + fn)\n",
    "print(\"G_mean:\",round(np.sqrt(sensitivity*precision),2))\n",
    "print('training score:', round(clf4.score(X_train_scaled,y_train),2))\n",
    "print('testing score:', round(clf4.score(X_test_scaled,y_test),2))\n",
    "print('ROC AUC score:', round(roc_auc_score(y_test, y_prob),2))\n",
    "print('f1_score:',round(f1_score(y_test, y_pred),2))\n",
    "print(\"*\"*70)\n",
    "print(classification_report(y_test, y_pred))"
   ]
  },
  {
   "cell_type": "markdown",
   "metadata": {},
   "source": [
    "## Decision Trees"
   ]
  },
  {
   "cell_type": "code",
   "execution_count": 690,
   "metadata": {},
   "outputs": [
    {
     "name": "stdout",
     "output_type": "stream",
     "text": [
      "G_mean: 0.37\n",
      "training score: 1.0\n",
      "testing score: 0.91\n",
      "ROC AUC score: 0.64\n",
      "f1_score: 0.37\n",
      "**********************************************************************\n",
      "              precision    recall  f1-score   support\n",
      "\n",
      "           0       0.93      0.96      0.95       637\n",
      "           1       0.45      0.31      0.37        62\n",
      "\n",
      "    accuracy                           0.91       699\n",
      "   macro avg       0.69      0.64      0.66       699\n",
      "weighted avg       0.89      0.91      0.90       699\n",
      "\n"
     ]
    }
   ],
   "source": [
    "clf5 = DecisionTreeClassifier(random_state=48,class_weight = {0: 1, 1:2.4})\n",
    "clf5.fit(X_train,y_train)\n",
    "y_prob = clf5.predict_proba(X_test)[:,1]\n",
    "y_pred = clf5.predict(X_test)\n",
    "cm = confusion_matrix(y_test, y_pred)\n",
    "tn, fp, fn, tp = cm.ravel()\n",
    "precision = tp / (tp + fp)\n",
    "sensitivity = tp / (tp + fn)\n",
    "print(\"G_mean:\",round(np.sqrt(sensitivity*precision),2))\n",
    "print('training score:', round(clf5.score(X_train,y_train),2))\n",
    "print('testing score:', round(clf5.score(X_test,y_test),2))\n",
    "print('ROC AUC score:', round(roc_auc_score(y_test, y_prob),2))\n",
    "print('f1_score:',round(f1_score(y_test, y_pred),2))\n",
    "print(\"*\"*70)\n",
    "print(classification_report(y_test, y_pred))"
   ]
  },
  {
   "cell_type": "markdown",
   "metadata": {},
   "source": [
    "## ExtraTreesClassifier\n"
   ]
  },
  {
   "cell_type": "code",
   "execution_count": 689,
   "metadata": {},
   "outputs": [
    {
     "name": "stdout",
     "output_type": "stream",
     "text": [
      "G_mean: 0.38\n",
      "training score: 1.0\n",
      "testing score: 0.92\n",
      "ROC AUC score: 0.82\n",
      "f1_score: 0.33\n",
      "**********************************************************************\n",
      "              precision    recall  f1-score   support\n",
      "\n",
      "           0       0.93      0.99      0.96       637\n",
      "           1       0.64      0.23      0.33        62\n",
      "\n",
      "    accuracy                           0.92       699\n",
      "   macro avg       0.78      0.61      0.65       699\n",
      "weighted avg       0.90      0.92      0.90       699\n",
      "\n"
     ]
    }
   ],
   "source": [
    "clf6 = ExtraTreesClassifier(random_state=42, n_estimators=110)\n",
    "clf6.fit(X_train,y_train)\n",
    "y_prob = clf6.predict_proba(X_test)[:,1]\n",
    "y_pred = clf6.predict(X_test)\n",
    "cm = confusion_matrix(y_test, y_pred)\n",
    "tn, fp, fn, tp = cm.ravel()\n",
    "precision = tp / (tp + fp)\n",
    "sensitivity = tp / (tp + fn)\n",
    "print(\"G_mean:\",round(np.sqrt(sensitivity*precision),2))\n",
    "print('training score:', round(clf6.score(X_train,y_train),2))\n",
    "print('testing score:', round(clf6.score(X_test,y_test),2))\n",
    "print('ROC AUC score:', round(roc_auc_score(y_test, y_prob),2))\n",
    "print('f1_score:',round(f1_score(y_test, y_pred),2))\n",
    "print(\"*\"*70)\n",
    "print(classification_report(y_test, y_pred))"
   ]
  },
  {
   "cell_type": "markdown",
   "metadata": {},
   "source": [
    "## AdaBoostClassifier"
   ]
  },
  {
   "cell_type": "code",
   "execution_count": 688,
   "metadata": {},
   "outputs": [
    {
     "name": "stdout",
     "output_type": "stream",
     "text": [
      "G_mean: 0.32\n",
      "training score: 1.0\n",
      "testing score: 0.88\n",
      "ROC AUC score: 0.62\n",
      "f1_score: 0.32\n",
      "**********************************************************************\n",
      "              precision    recall  f1-score   support\n",
      "\n",
      "           0       0.93      0.94      0.94       637\n",
      "           1       0.33      0.31      0.32        62\n",
      "\n",
      "    accuracy                           0.88       699\n",
      "   macro avg       0.63      0.62      0.63       699\n",
      "weighted avg       0.88      0.88      0.88       699\n",
      "\n"
     ]
    }
   ],
   "source": [
    "clf7 = AdaBoostClassifier(random_state=1, n_estimators=110, base_estimator=DecisionTreeClassifier(random_state=48,class_weight = {0: 1, 1:1.27})).fit(X_train, y_train)\n",
    "y_prob = clf7.predict_proba(X_test)[:,1]\n",
    "y_pred = clf7.predict(X_test)\n",
    "cm = confusion_matrix(y_test, y_pred)\n",
    "tn, fp, fn, tp = cm.ravel()\n",
    "precision = tp / (tp + fp)\n",
    "sensitivity = tp / (tp + fn)\n",
    "print(\"G_mean:\",round(np.sqrt(sensitivity*precision),2))\n",
    "print('training score:', round(clf7.score(X_train,y_train),2))\n",
    "print('testing score:', round(clf7.score(X_test,y_test),2))\n",
    "print('ROC AUC score:', round(roc_auc_score(y_test, y_prob),2))\n",
    "print('f1_score:',round(f1_score(y_test, y_pred),2))\n",
    "print(\"*\"*70)\n",
    "print(classification_report(y_test, y_pred))"
   ]
  },
  {
   "cell_type": "markdown",
   "metadata": {},
   "source": [
    "## Random Forests"
   ]
  },
  {
   "cell_type": "code",
   "execution_count": 686,
   "metadata": {},
   "outputs": [
    {
     "name": "stdout",
     "output_type": "stream",
     "text": [
      "G_mean: 0.38\n",
      "training score: 0.99\n",
      "testing score: 0.92\n",
      "ROC AUC score: 0.81\n",
      "f1_score: 0.31\n",
      "**********************************************************************\n",
      "              precision    recall  f1-score   support\n",
      "\n",
      "           0       0.93      0.99      0.96       637\n",
      "           1       0.75      0.19      0.31        62\n",
      "\n",
      "    accuracy                           0.92       699\n",
      "   macro avg       0.84      0.59      0.63       699\n",
      "weighted avg       0.91      0.92      0.90       699\n",
      "\n"
     ]
    }
   ],
   "source": [
    "clf8 = RandomForestClassifier(random_state=42, n_estimators=20,class_weight = {0: 1, 1:2.4}) \n",
    "clf8.fit(X_train, y_train)\n",
    "y_prob = clf8.predict_proba(X_test)[:,1]\n",
    "y_pred = clf8.predict(X_test)\n",
    "cm = confusion_matrix(y_test, y_pred)\n",
    "tn, fp, fn, tp = cm.ravel()\n",
    "precision = tp / (tp + fp)\n",
    "sensitivity = tp / (tp + fn)\n",
    "print(\"G_mean:\",round(np.sqrt(sensitivity*precision),2))\n",
    "print('training score:', round(clf8.score(X_train,y_train),2))\n",
    "print('testing score:', round(clf8.score(X_test,y_test),2))\n",
    "print('ROC AUC score:', round(roc_auc_score(y_test, y_prob),2))\n",
    "print('f1_score:',round(f1_score(y_test, y_pred),2))\n",
    "\n",
    "print(\"*\"*70)\n",
    "print(classification_report(y_test, y_pred))"
   ]
  },
  {
   "cell_type": "markdown",
   "metadata": {},
   "source": [
    "## XGBClassifier"
   ]
  },
  {
   "cell_type": "code",
   "execution_count": 685,
   "metadata": {},
   "outputs": [
    {
     "name": "stdout",
     "output_type": "stream",
     "text": [
      "G_mean: 0.42\n",
      "training score: 0.95\n",
      "testing score: 0.93\n",
      "ROC AUC score: 0.86\n",
      "f1_score: 0.32\n",
      "**********************************************************************\n",
      "              precision    recall  f1-score   support\n",
      "\n",
      "           0       0.93      1.00      0.96       637\n",
      "           1       0.92      0.19      0.32        62\n",
      "\n",
      "    accuracy                           0.93       699\n",
      "   macro avg       0.93      0.60      0.64       699\n",
      "weighted avg       0.93      0.93      0.90       699\n",
      "\n"
     ]
    }
   ],
   "source": [
    "clf9 =  XGBClassifier(random_state=1, eval_metric= 'error', learning_rate= 0.004) \n",
    "clf9.fit(X_train, y_train)\n",
    "y_prob = clf9.predict_proba(X_test)[:,1]\n",
    "y_pred = clf9.predict(X_test)\n",
    "cm = confusion_matrix(y_test, y_pred)\n",
    "tn, fp, fn, tp = cm.ravel()\n",
    "precision = tp / (tp + fp)\n",
    "sensitivity = tp / (tp + fn)\n",
    "print(\"G_mean:\",round(np.sqrt(sensitivity*precision),2))\n",
    "print('training score:', round(clf9.score(X_train,y_train),2))\n",
    "print('testing score:', round(clf9.score(X_test,y_test),2))\n",
    "print('ROC AUC score:', round(roc_auc_score(y_test, y_prob),2))\n",
    "print('f1_score:',round(f1_score(y_test, y_pred),2))\n",
    "print(\"*\"*70)\n",
    "print(classification_report(y_test, y_pred))"
   ]
  },
  {
   "cell_type": "markdown",
   "metadata": {},
   "source": [
    "## MLPClassifier"
   ]
  },
  {
   "cell_type": "code",
   "execution_count": 684,
   "metadata": {},
   "outputs": [
    {
     "name": "stdout",
     "output_type": "stream",
     "text": [
      "G_mean: 0.48\n",
      "training score: 0.95\n",
      "testing score: 0.93\n",
      "ROC AUC score: 0.84\n",
      "f1_score: 0.37\n",
      "**********************************************************************\n",
      "              precision    recall  f1-score   support\n",
      "\n",
      "           0       0.93      1.00      0.96       637\n",
      "           1       1.00      0.23      0.37        62\n",
      "\n",
      "    accuracy                           0.93       699\n",
      "   macro avg       0.96      0.61      0.67       699\n",
      "weighted avg       0.94      0.93      0.91       699\n",
      "\n"
     ]
    }
   ],
   "source": [
    "clf10 =MLPClassifier(solver='lbfgs',max_iter=2000, alpha=0.0001,hidden_layer_sizes=(3,2), random_state=42)\n",
    "\n",
    "clf10.fit(X_train_scaled, y_train)\n",
    "y_prob = clf10.predict_proba(X_test_scaled)[:,1]\n",
    "y_pred = clf10.predict(X_test_scaled)\n",
    "cm = confusion_matrix(y_test, y_pred)\n",
    "tn, fp, fn, tp = cm.ravel()\n",
    "precision = tp / (tp + fp)\n",
    "sensitivity = tp / (tp + fn)\n",
    "print(\"G_mean:\",round(np.sqrt(sensitivity*precision),2))\n",
    "print('training score:', round(clf10.score(X_train_scaled,y_train),2))\n",
    "print('testing score:', round(clf10.score(X_test_scaled,y_test),2))\n",
    "print('ROC AUC score:', round(roc_auc_score(y_test, y_prob),2))\n",
    "print('f1_score:',round(f1_score(y_test, y_pred),2))\n",
    "print(\"*\"*70)\n",
    "print(classification_report(y_test, y_pred))"
   ]
  },
  {
   "cell_type": "code",
   "execution_count": null,
   "metadata": {},
   "outputs": [],
   "source": []
  }
 ],
 "metadata": {
  "interpreter": {
   "hash": "6d8252e6ff2fcf763984e1fe66594d90dbe24607a75b4fe465f6934f23ce49e5"
  },
  "kernelspec": {
   "display_name": "Python 3",
   "language": "python",
   "name": "python3"
  },
  "language_info": {
   "codemirror_mode": {
    "name": "ipython",
    "version": 3
   },
   "file_extension": ".py",
   "mimetype": "text/x-python",
   "name": "python",
   "nbconvert_exporter": "python",
   "pygments_lexer": "ipython3",
   "version": "3.7.6"
  }
 },
 "nbformat": 4,
 "nbformat_minor": 2
}
