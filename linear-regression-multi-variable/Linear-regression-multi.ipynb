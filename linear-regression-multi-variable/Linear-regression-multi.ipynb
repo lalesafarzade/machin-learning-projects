{
 "cells": [
  {
   "cell_type": "code",
   "execution_count": 33,
   "metadata": {},
   "outputs": [],
   "source": [
    "import pandas as pd\n",
    "import numpy as np\n",
    "import matplotlib.pyplot as plt\n",
    "import seaborn as sns\n",
    "%matplotlib inline\n",
    "from sklearn.model_selection import train_test_split\n",
    "from sklearn.linear_model import LinearRegression\n",
    "from sklearn import metrics"
   ]
  },
  {
   "cell_type": "code",
   "execution_count": 34,
   "metadata": {},
   "outputs": [
    {
     "data": {
      "text/plain": [
       "Index(['Avg. Area Income', 'Avg. Area House Age', 'Avg. Area Number of Rooms',\n",
       "       'Avg. Area Number of Bedrooms', 'Area Population', 'Price', 'Address'],\n",
       "      dtype='object')"
      ]
     },
     "execution_count": 34,
     "metadata": {},
     "output_type": "execute_result"
    }
   ],
   "source": [
    "USAhousing = pd.read_csv('USA_Housing.csv')\n",
    "USAhousing.columns"
   ]
  },
  {
   "cell_type": "code",
   "execution_count": 35,
   "metadata": {},
   "outputs": [],
   "source": [
    "X = USAhousing[['Avg. Area Income', 'Avg. Area House Age', 'Avg. Area Number of Rooms',\n",
    "               'Avg. Area Number of Bedrooms', 'Area Population']]\n",
    "y = USAhousing['Price']"
   ]
  },
  {
   "cell_type": "code",
   "execution_count": 36,
   "metadata": {},
   "outputs": [],
   "source": [
    "X_train, X_test, y_train, y_test = train_test_split(X, y, test_size=0.3, random_state=101)"
   ]
  },
  {
   "cell_type": "markdown",
   "metadata": {},
   "source": [
    "## with Regularization"
   ]
  },
  {
   "cell_type": "code",
   "execution_count": 37,
   "metadata": {},
   "outputs": [],
   "source": [
    "df1 = pd.read_csv('USA_Housing.csv').to_numpy()\n",
    "X, y = df1[:, 0:5], df1[:, 5]"
   ]
  },
  {
   "cell_type": "code",
   "execution_count": 38,
   "metadata": {},
   "outputs": [],
   "source": [
    "X_train, X_test, y_train, y_test = train_test_split(X, y, test_size=0.3, random_state=101)"
   ]
  },
  {
   "cell_type": "code",
   "execution_count": 39,
   "metadata": {},
   "outputs": [
    {
     "name": "stdout",
     "output_type": "stream",
     "text": [
      "[66774.99581728588 5.717143201084843 7.795214820544994 4.32\n",
      " 36788.98032695149]\n",
      "1251688.6157028743\n"
     ]
    }
   ],
   "source": [
    "print(X_test[0])\n",
    "print(y_test[0])"
   ]
  },
  {
   "cell_type": "code",
   "execution_count": 40,
   "metadata": {},
   "outputs": [
    {
     "data": {
      "text/plain": [
       "<matplotlib.legend.Legend at 0x23762f05400>"
      ]
     },
     "execution_count": 40,
     "metadata": {},
     "output_type": "execute_result"
    },
    {
     "data": {
      "image/png": "[encoded data removed]",
      "text/plain": [
       "<Figure size 432x288 with 1 Axes>"
      ]
     },
     "metadata": {
      "needs_background": "light"
     },
     "output_type": "display_data"
    }
   ],
   "source": [
    "#Quick visualize data\n",
    "plt.grid(True)\n",
    "plt.hist(X_train[:,0],label = 'col1')\n",
    "plt.hist(X_train[:,1],label = 'col2')\n",
    "plt.hist(X_train[:,2],label = 'col3')\n",
    "plt.hist(X_train[:,3],label = 'col4')\n",
    "plt.hist(X_train[:,4],label = 'col5')\n",
    "\n",
    "plt.title('Clearly we need feature normalization.')\n",
    "plt.xlabel('Column Value')\n",
    "plt.ylabel('Counts')\n",
    "plt.legend(['1','2','3','4','5'])"
   ]
  },
  {
   "cell_type": "markdown",
   "metadata": {},
   "source": [
    "Normalizes the features in X. returns a normalized version of X where\n",
    "    the mean value of each feature is 0 and the standard deviation\n",
    "    is 1. This is often a good preprocessing step to do when working with\n",
    "    learning algorithms.\n",
    "    \n",
    "    Parameters\n",
    "    ----------\n",
    "    X : array_like\n",
    "        The dataset of shape (m x n).\n",
    "    \n",
    "    Returns\n",
    "    -------\n",
    "    X_norm : array_like\n",
    "        The normalized dataset of shape (m x n).\n",
    "    "
   ]
  },
  {
   "cell_type": "code",
   "execution_count": 41,
   "metadata": {},
   "outputs": [],
   "source": [
    "def  featureNormalize(X):\n",
    "   \n",
    "    # You need to set these values correctly\n",
    "    X_norm = X.copy()\n",
    "    mu = np.zeros(X.shape[1])\n",
    "    sigma = np.zeros(X.shape[1])\n",
    "    n = X.shape[1]\n",
    "\n",
    "    for i in range(n):\n",
    "        mu[i] = np.mean(X[:,i])\n",
    "    for i in range(n):\n",
    "        sigma[i] = np.std(X[:,i])\n",
    "    for i in range(n):\n",
    "        X_norm[:,i] = (X[:,i]-mu[i])/sigma[i]\n",
    "    \n",
    "    return X_norm, mu, sigma"
   ]
  },
  {
   "cell_type": "code",
   "execution_count": 42,
   "metadata": {},
   "outputs": [
    {
     "name": "stdout",
     "output_type": "stream",
     "text": [
      "Computed mean: [6.84405508e+04 5.97204457e+00 6.98243593e+00 3.96387714e+00\n",
      " 3.61505825e+04]\n",
      "Computed standard deviation: [1.05918067e+04 9.77720868e-01 1.00051237e+00 1.22978694e+00\n",
      " 9.92283438e+03]\n"
     ]
    }
   ],
   "source": [
    "# call featureNormalize on the loaded data\n",
    "X_norm, mu, sigma = featureNormalize(X_train)\n",
    "\n",
    "print('Computed mean:', mu)\n",
    "print('Computed standard deviation:', sigma)"
   ]
  },
  {
   "cell_type": "code",
   "execution_count": 43,
   "metadata": {},
   "outputs": [
    {
     "data": {
      "image/png": "[encoded data removed]",
      "text/plain": [
       "<Figure size 432x288 with 1 Axes>"
      ]
     },
     "metadata": {
      "needs_background": "light"
     },
     "output_type": "display_data"
    }
   ],
   "source": [
    "plt.grid(True)\n",
    "#plt.xlim([-5,5])\n",
    "dummy = plt.hist(X_norm[:,0],label = 'col1')\n",
    "dummy = plt.hist(X_norm[:,1],label = 'col2')\n",
    "dummy = plt.hist(X_norm[:,2],label = 'col3')\n",
    "dummy = plt.hist(X_norm[:,3],label = 'col4')\n",
    "dummy = plt.hist(X_norm[:,4],label = 'col5')\n",
    "\n",
    "\n",
    "\n",
    "plt.title('Feature Normalization Accomplished')\n",
    "plt.xlabel('Column Value')\n",
    "plt.ylabel('Counts')\n",
    "dummy = plt.legend()"
   ]
  },
  {
   "cell_type": "code",
   "execution_count": 44,
   "metadata": {},
   "outputs": [],
   "source": [
    "#After the featureNormalize function is tested, we now add the intercept term to X_norm:\n",
    "\n",
    "m = y_train.size\n",
    "# Add intercept term to X\n",
    "X_train_1 = np.concatenate([np.ones((m, 1)), X_norm], axis=1)"
   ]
  },
  {
   "cell_type": "code",
   "execution_count": 45,
   "metadata": {},
   "outputs": [
    {
     "data": {
      "text/plain": [
       "(3500, 6)"
      ]
     },
     "execution_count": 45,
     "metadata": {},
     "output_type": "execute_result"
    }
   ],
   "source": [
    "X_train_1.shape"
   ]
  },
  {
   "cell_type": "code",
   "execution_count": 46,
   "metadata": {},
   "outputs": [],
   "source": [
    "def computeCostMulti(X, y, theta):\n",
    "    \n",
    "    m = y.shape[0] # number of training examples\n",
    "    \n",
    "    J = 0\n",
    "    J = (np.sum(np.square(np.dot(X,theta)-y)))/(2*m)\n",
    "    \n",
    "    return J"
   ]
  },
  {
   "cell_type": "code",
   "execution_count": 47,
   "metadata": {},
   "outputs": [],
   "source": [
    "def gradientDescentMulti(X, y, theta, alpha, num_iters):\n",
    "    \n",
    "    m = y.shape[0] # number of training examples\n",
    "    \n",
    "    theta = theta.copy()\n",
    "    \n",
    "    J_history = []\n",
    "    \n",
    "    for i in range(num_iters):\n",
    "        theta = theta - (alpha/m)*(np.dot(X.transpose(),(np.dot(X,theta)-y)))\n",
    "        \n",
    "        \n",
    "        J_history.append(computeCostMulti(X, y, theta))\n",
    "    \n",
    "    return theta, J_history"
   ]
  },
  {
   "cell_type": "code",
   "execution_count": 48,
   "metadata": {},
   "outputs": [
    {
     "name": "stdout",
     "output_type": "stream",
     "text": [
      "theta computed from gradient descent: [1228189.9612082806 228969.15822469429 161538.83450802596\n",
      " 121448.55801090124 1640.7924457536496 151078.5912243163]\n"
     ]
    },
    {
     "data": {
      "image/png": "[encoded data removed]",
      "text/plain": [
       "<Figure size 432x288 with 1 Axes>"
      ]
     },
     "metadata": {
      "needs_background": "light"
     },
     "output_type": "display_data"
    }
   ],
   "source": [
    "# Choose some alpha value - change this\n",
    "alpha = 0.03\n",
    "num_iters = 500\n",
    "\n",
    "# init theta and run gradient descent\n",
    "theta = np.zeros(6)\n",
    "theta, J_history = gradientDescentMulti(X_train_1, y_train, theta, alpha, num_iters)\n",
    "\n",
    "plt.plot(np.arange(len(J_history)), J_history, lw=2)\n",
    "plt.xlabel('Number of iterations')\n",
    "plt.ylabel('Cost J')\n",
    "\n",
    "\n",
    "print('theta computed from gradient descent: {:s}'.format(str(theta)))\n",
    "\n",
    "price = 0  \n",
    "price = theta[0]*1 + theta[1]*((66774.99581728588-mu[0])/sigma[0]) + theta[2]*((5.717143201084843-mu[1])/sigma[1])\\\n",
    "    +theta[3]*((7.795214820544994-mu[2])/sigma[2])+theta[4]*((4.32-mu[3])/sigma[3])+theta[5]*((36788.98032695149-mu[4])/sigma[4])\n",
    "\n"
   ]
  },
  {
   "cell_type": "code",
   "execution_count": 49,
   "metadata": {},
   "outputs": [
    {
     "data": {
      "text/plain": [
       "array([66774.99581728588, 5.717143201084843, 7.795214820544994, 4.32,\n",
       "       36788.98032695149], dtype=object)"
      ]
     },
     "execution_count": 49,
     "metadata": {},
     "output_type": "execute_result"
    }
   ],
   "source": [
    "X_test[0]"
   ]
  },
  {
   "cell_type": "code",
   "execution_count": 50,
   "metadata": {},
   "outputs": [
    {
     "name": "stdout",
     "output_type": "stream",
     "text": [
      "Predicted price of the first X_test with y_test of $1251688.6157028743: $1258925\n"
     ]
    }
   ],
   "source": [
    "\n",
    "print('Predicted price of the first X_test with y_test of $1251688.6157028743: ${:.0f}'.format(price))\n"
   ]
  },
  {
   "cell_type": "markdown",
   "metadata": {},
   "source": [
    "### with Normal Equations"
   ]
  },
  {
   "cell_type": "code",
   "execution_count": 51,
   "metadata": {},
   "outputs": [],
   "source": [
    "m = y_train.size\n",
    "# Add intercept term to X\n",
    "X_train_2 = np.concatenate([np.ones((m, 1)), X_train], axis=1).astype(float)\n",
    "y_train_2 = y_train.reshape(len(y_train),1).astype(float)"
   ]
  },
  {
   "cell_type": "code",
   "execution_count": 52,
   "metadata": {},
   "outputs": [],
   "source": [
    "from numpy.linalg import inv\n",
    "def normalEqn(X, y):\n",
    "    \n",
    "    #theta = np.zeros(X.shape[1])\n",
    "    \n",
    "    x_tr=X.T\n",
    "    theta=np.dot(inv(np.dot(x_tr,X)),(np.dot(x_tr,y)))\n",
    "\n",
    "    \n",
    "    return theta"
   ]
  },
  {
   "cell_type": "code",
   "execution_count": 53,
   "metadata": {},
   "outputs": [
    {
     "name": "stdout",
     "output_type": "stream",
     "text": [
      "Theta computed from the normal equations: [[-2.64137267e+06]\n",
      " [ 2.16176350e+01]\n",
      " [ 1.65221120e+05]\n",
      " [ 1.21405377e+05]\n",
      " [ 1.31871878e+03]\n",
      " [ 1.52251955e+01]]\n",
      "Predicted price of the first X_test with y_test of $1251688.6157028743: $1258935\n"
     ]
    }
   ],
   "source": [
    "theta = normalEqn(X_train_2, y_train_2);\n",
    "\n",
    "# Display normal equation's result\n",
    "print('Theta computed from the normal equations: {:s}'.format(str(theta)));\n",
    "\n",
    "def h(theta,X): #Linear hypothesis function\n",
    "    return np.dot(X,theta)\n",
    "price = float(h(theta,[1,66774.99581728588, 5.717143201084843, 7.795214820544994, 4.32,36788.98032695149])) # You should change this\n",
    "\n",
    "\n",
    "print('Predicted price of the first X_test with y_test of $1251688.6157028743: ${:.0f}'.format(price))\n"
   ]
  },
  {
   "cell_type": "code",
   "execution_count": 54,
   "metadata": {},
   "outputs": [
    {
     "data": {
      "text/plain": [
       "array([1.00000000e+00, 8.66908733e+04, 6.25990093e+00, 6.67626537e+00,\n",
       "       3.23000000e+00, 4.25896244e+04])"
      ]
     },
     "execution_count": 54,
     "metadata": {},
     "output_type": "execute_result"
    }
   ],
   "source": [
    "X_train_2[0]"
   ]
  },
  {
   "cell_type": "markdown",
   "metadata": {},
   "source": [
    "### for finding Error:\n"
   ]
  },
  {
   "cell_type": "code",
   "execution_count": 55,
   "metadata": {},
   "outputs": [],
   "source": [
    "m = y_test.size\n",
    "# Add intercept term to X\n",
    "X_test_2 = np.concatenate([np.ones((m, 1)), X_test], axis=1).astype(float)\n",
    "y_test_2 = y_test.reshape(len(y_test),1).astype(float)"
   ]
  },
  {
   "cell_type": "code",
   "execution_count": 56,
   "metadata": {},
   "outputs": [],
   "source": [
    "def h(theta,X): #Linear hypothesis function\n",
    "    return np.dot(X,theta)"
   ]
  },
  {
   "cell_type": "code",
   "execution_count": 57,
   "metadata": {},
   "outputs": [
    {
     "name": "stdout",
     "output_type": "stream",
     "text": [
      "22334151559.11668\n"
     ]
    }
   ],
   "source": [
    "theta = normalEqn(X_train_2,y_train_2)\n",
    "m = y_test.size\n",
    "y_tst=[]\n",
    "er=[]\n",
    "pred=[]\n",
    "for i in range(y_test_2.shape[0]):\n",
    "    \n",
    "    for index,j in enumerate(X_test_2[i]):\n",
    "        y=y_test_2[index][0]\n",
    "        y_tst.append(y)\n",
    "        p=float(h(theta,[X_test_2[index][0],X_test_2[index][1],X_test_2[index][2],X_test_2[index][3],\n",
    "        X_test_2[index][4],X_test_2[index][5]]))\n",
    "        pred.append(p)\n",
    "        er.append((y-p)**2)\n",
    "        \n",
    "MSE=1/m*sum(er)\n",
    "        \n",
    "print(MSE)"
   ]
  },
  {
   "cell_type": "code",
   "execution_count": 58,
   "metadata": {},
   "outputs": [
    {
     "data": {
      "text/html": [
       "<div>\n",
       "<style scoped>\n",
       "    .dataframe tbody tr th:only-of-type {\n",
       "        vertical-align: middle;\n",
       "    }\n",
       "\n",
       "    .dataframe tbody tr th {\n",
       "        vertical-align: top;\n",
       "    }\n",
       "\n",
       "    .dataframe thead th {\n",
       "        text-align: right;\n",
       "    }\n",
       "</style>\n",
       "<table border=\"1\" class=\"dataframe\">\n",
       "  <thead>\n",
       "    <tr style=\"text-align: right;\">\n",
       "      <th></th>\n",
       "      <th>y_test</th>\n",
       "      <th>predict</th>\n",
       "    </tr>\n",
       "  </thead>\n",
       "  <tbody>\n",
       "    <tr>\n",
       "      <th>0</th>\n",
       "      <td>1.251689e+06</td>\n",
       "      <td>1.258935e+06</td>\n",
       "    </tr>\n",
       "    <tr>\n",
       "      <th>1</th>\n",
       "      <td>8.730483e+05</td>\n",
       "      <td>8.226946e+05</td>\n",
       "    </tr>\n",
       "    <tr>\n",
       "      <th>2</th>\n",
       "      <td>1.696978e+06</td>\n",
       "      <td>1.742214e+06</td>\n",
       "    </tr>\n",
       "    <tr>\n",
       "      <th>3</th>\n",
       "      <td>1.063964e+06</td>\n",
       "      <td>9.729370e+05</td>\n",
       "    </tr>\n",
       "    <tr>\n",
       "      <th>4</th>\n",
       "      <td>9.487883e+05</td>\n",
       "      <td>9.945460e+05</td>\n",
       "    </tr>\n",
       "    <tr>\n",
       "      <th>...</th>\n",
       "      <td>...</td>\n",
       "      <td>...</td>\n",
       "    </tr>\n",
       "    <tr>\n",
       "      <th>8995</th>\n",
       "      <td>8.730483e+05</td>\n",
       "      <td>8.226946e+05</td>\n",
       "    </tr>\n",
       "    <tr>\n",
       "      <th>8996</th>\n",
       "      <td>1.696978e+06</td>\n",
       "      <td>1.742214e+06</td>\n",
       "    </tr>\n",
       "    <tr>\n",
       "      <th>8997</th>\n",
       "      <td>1.063964e+06</td>\n",
       "      <td>9.729370e+05</td>\n",
       "    </tr>\n",
       "    <tr>\n",
       "      <th>8998</th>\n",
       "      <td>9.487883e+05</td>\n",
       "      <td>9.945460e+05</td>\n",
       "    </tr>\n",
       "    <tr>\n",
       "      <th>8999</th>\n",
       "      <td>7.300436e+05</td>\n",
       "      <td>6.444863e+05</td>\n",
       "    </tr>\n",
       "  </tbody>\n",
       "</table>\n",
       "<p>9000 rows × 2 columns</p>\n",
       "</div>"
      ],
      "text/plain": [
       "            y_test       predict\n",
       "0     1.251689e+06  1.258935e+06\n",
       "1     8.730483e+05  8.226946e+05\n",
       "2     1.696978e+06  1.742214e+06\n",
       "3     1.063964e+06  9.729370e+05\n",
       "4     9.487883e+05  9.945460e+05\n",
       "...            ...           ...\n",
       "8995  8.730483e+05  8.226946e+05\n",
       "8996  1.696978e+06  1.742214e+06\n",
       "8997  1.063964e+06  9.729370e+05\n",
       "8998  9.487883e+05  9.945460e+05\n",
       "8999  7.300436e+05  6.444863e+05\n",
       "\n",
       "[9000 rows x 2 columns]"
      ]
     },
     "execution_count": 58,
     "metadata": {},
     "output_type": "execute_result"
    }
   ],
   "source": [
    "df = pd.DataFrame(list(zip(y_tst,pred)),\n",
    "               columns =['y_test', 'predict'])\n",
    "df"
   ]
  },
  {
   "cell_type": "code",
   "execution_count": 59,
   "metadata": {},
   "outputs": [
    {
     "name": "stdout",
     "output_type": "stream",
     "text": [
      "MAE: 54196.50033021232\n",
      "MSE: 3722358593.1858964\n",
      "RMSE: 61011.134993424734\n"
     ]
    }
   ],
   "source": [
    "print('MAE:', metrics.mean_absolute_error(y_tst, pred))\n",
    "print('MSE:', metrics.mean_squared_error(y_tst, pred))\n",
    "print('RMSE:', np.sqrt(metrics.mean_squared_error(y_tst, pred)))"
   ]
  },
  {
   "cell_type": "markdown",
   "metadata": {},
   "source": [
    "### with Sklearn libraries\n"
   ]
  },
  {
   "cell_type": "code",
   "execution_count": 60,
   "metadata": {},
   "outputs": [
    {
     "data": {
      "text/plain": [
       "LinearRegression()"
      ]
     },
     "execution_count": 60,
     "metadata": {},
     "output_type": "execute_result"
    }
   ],
   "source": [
    "lm = LinearRegression()\n",
    "lm.fit(X_train[:,1:],y_train)"
   ]
  },
  {
   "cell_type": "code",
   "execution_count": 61,
   "metadata": {},
   "outputs": [
    {
     "data": {
      "text/plain": [
       "<matplotlib.collections.PathCollection at 0x237646a5dd8>"
      ]
     },
     "execution_count": 61,
     "metadata": {},
     "output_type": "execute_result"
    },
    {
     "data": {
      "image/png": "[encoded data removed]",
      "text/plain": [
       "<Figure size 432x288 with 1 Axes>"
      ]
     },
     "metadata": {
      "needs_background": "light"
     },
     "output_type": "display_data"
    }
   ],
   "source": [
    "predictions = lm.predict(X_test[:,1:])\n",
    "plt.scatter(y_test,predictions)"
   ]
  },
  {
   "cell_type": "code",
   "execution_count": 62,
   "metadata": {},
   "outputs": [
    {
     "data": {
      "text/plain": [
       "array([[5.71714320e+00, 7.79521482e+00, 4.32000000e+00, 3.67889803e+04]])"
      ]
     },
     "execution_count": 62,
     "metadata": {},
     "output_type": "execute_result"
    }
   ],
   "source": [
    "np.array([list(X_test[0,1:])])"
   ]
  },
  {
   "cell_type": "code",
   "execution_count": 63,
   "metadata": {},
   "outputs": [
    {
     "name": "stdout",
     "output_type": "stream",
     "text": [
      "Predicted price of the first X_test with y_test of $1251688.6157028743: [1291397.14243162]\n"
     ]
    }
   ],
   "source": [
    "\n",
    "price=lm.predict(np.array([list(X_test[0,1:])]))\n",
    "print(f'Predicted price of the first X_test with y_test of $1251688.6157028743: {price}')"
   ]
  },
  {
   "cell_type": "code",
   "execution_count": 64,
   "metadata": {},
   "outputs": [
    {
     "name": "stdout",
     "output_type": "stream",
     "text": [
      "MAE: 200719.38956882452\n",
      "MSE: 64083459568.469376\n",
      "RMSE: 253147.11052759297\n"
     ]
    }
   ],
   "source": [
    "print('MAE:', metrics.mean_absolute_error(y_test, predictions))\n",
    "print('MSE:', metrics.mean_squared_error(y_test, predictions))\n",
    "print('RMSE:', np.sqrt(metrics.mean_squared_error(y_test, predictions)))"
   ]
  },
  {
   "cell_type": "code",
   "execution_count": null,
   "metadata": {},
   "outputs": [],
   "source": []
  }
 ],
 "metadata": {
  "interpreter": {
   "hash": "11c18a6ec42354f442c314a4a65c13ed192fa6fbf55035b14a6cf201151c352b"
  },
  "kernelspec": {
   "display_name": "Python 3.6.10 ('PythonData')",
   "language": "python",
   "name": "python3"
  },
  "language_info": {
   "codemirror_mode": {
    "name": "ipython",
    "version": 3
   },
   "file_extension": ".py",
   "mimetype": "text/x-python",
   "name": "python",
   "nbconvert_exporter": "python",
   "pygments_lexer": "ipython3",
   "version": "3.6.10"
  },
  "orig_nbformat": 4
 },
 "nbformat": 4,
 "nbformat_minor": 2
}
